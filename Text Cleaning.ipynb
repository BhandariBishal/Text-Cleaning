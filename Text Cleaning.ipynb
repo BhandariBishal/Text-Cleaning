{
 "cells": [
  {
   "cell_type": "markdown",
   "metadata": {},
   "source": [
    "## Data Cleaning with NLTK"
   ]
  },
  {
   "cell_type": "code",
   "execution_count": 6,
   "metadata": {},
   "outputs": [
    {
     "name": "stderr",
     "output_type": "stream",
     "text": [
      "[nltk_data] Downloading package stopwords to\n",
      "[nltk_data]     C:\\Users\\Jay\\AppData\\Roaming\\nltk_data...\n",
      "[nltk_data]   Unzipping corpora\\stopwords.zip.\n",
      "[nltk_data] Downloading package punkt to\n",
      "[nltk_data]     C:\\Users\\Jay\\AppData\\Roaming\\nltk_data...\n",
      "[nltk_data]   Unzipping tokenizers\\punkt.zip.\n"
     ]
    },
    {
     "data": {
      "text/plain": [
       "True"
      ]
     },
     "execution_count": 6,
     "metadata": {},
     "output_type": "execute_result"
    }
   ],
   "source": [
    "import nltk\n",
    "# nltk is already installed on lab computer and virtual PC. But its data is not installed yet.  \n",
    "nltk.download('stopwords')\n",
    "nltk.download('punkt')"
   ]
  },
  {
   "cell_type": "code",
   "execution_count": 7,
   "metadata": {
    "scrolled": true
   },
   "outputs": [
    {
     "data": {
      "text/plain": [
       "['jazz music swing rhythm', 'swing hard explain', 'swing rhythm natur rhythm']"
      ]
     },
     "execution_count": 7,
     "metadata": {},
     "output_type": "execute_result"
    }
   ],
   "source": [
    "from nltk import word_tokenize\n",
    "from nltk.corpus import stopwords\n",
    "from nltk.stem import PorterStemmer\n",
    "\n",
    "corpus = [\n",
    "    'jazz music has a swing rhythm', \n",
    "    'swing is hard to explain',\n",
    "    'swing rhythm is a natural rhythm',\n",
    "]\n",
    "corpus_cleaned = []\n",
    "\n",
    "for text in corpus:\n",
    "    # Seperate text into individual words\n",
    "    tokens = word_tokenize(text)\n",
    "    \n",
    "    # Remove the punctuations and numbers\n",
    "    tokens = [word for word in tokens if word.isalpha()]\n",
    "\n",
    "    # Lower the tokens\n",
    "    tokens = [word.lower() for word in tokens]\n",
    "\n",
    "    # Remove stopword\n",
    "    tokens = [word for word in tokens if not word in stopwords.words(\"english\")]\n",
    "\n",
    "    # Stem the tokens\n",
    "    ps = PorterStemmer()\n",
    "    tokens = [ps.stem(w) for w in tokens]\n",
    "    \n",
    "    text_cleaned = \" \".join(tokens)\n",
    "\n",
    "    corpus_cleaned.append(text_cleaned)\n",
    "\n",
    "corpus_cleaned"
   ]
  }
 ],
 "metadata": {
  "kernelspec": {
   "display_name": "Python 3",
   "language": "python",
   "name": "python3"
  },
  "language_info": {
   "codemirror_mode": {
    "name": "ipython",
    "version": 3
   },
   "file_extension": ".py",
   "mimetype": "text/x-python",
   "name": "python",
   "nbconvert_exporter": "python",
   "pygments_lexer": "ipython3",
   "version": "3.7.16"
  }
 },
 "nbformat": 4,
 "nbformat_minor": 2
}
